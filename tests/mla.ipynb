{
 "cells": [
  {
   "cell_type": "code",
   "execution_count": null,
   "metadata": {},
   "outputs": [],
   "source": [
    "import torch\n",
    "import torch.nn as nn\n",
    "import torch.nn.functional as F"
   ]
  },
  {
   "cell_type": "code",
   "execution_count": 1,
   "metadata": {},
   "outputs": [],
   "source": [
    "n_embd = 512\n",
    "n_head = 8\n",
    "n_layer = 6\n",
    "seq_len = 256"
   ]
  },
  {
   "cell_type": "code",
   "execution_count": null,
   "metadata": {},
   "outputs": [],
   "source": [
    "class RoPEEmbedding(nn.Module):\n",
    "    def __init__(self, dim, base, seq_len:\n",
    "        super().__init__()\n",
    "\n",
    "        self.dim = dim\n",
    "        self.base = base\n",
    "        self.seq_len = seq_len\n",
    "\n",
    "        self.theta = 1.0 / (self.base ** (torch.arange(0, self.dim, 2)[: (self.dim // 2)].float()/self.dim))\n",
    "        self.register_buffer(\"theta\", self.theta, persistent=False)\n",
    "\n",
    "        seq_idx = torch.arange(\n",
    "            self.seq_len, dtype=self.theta.dtype, device = self.theta.device\n",
    "        )\n",
    "\n",
    "        \n"
   ]
  },
  {
   "cell_type": "code",
   "execution_count": null,
   "metadata": {},
   "outputs": [],
   "source": [
    "class MOETransformer(nn.Moduel):\n",
    "    pass"
   ]
  }
 ],
 "metadata": {
  "kernelspec": {
   "display_name": "torch",
   "language": "python",
   "name": "python3"
  },
  "language_info": {
   "codemirror_mode": {
    "name": "ipython",
    "version": 3
   },
   "file_extension": ".py",
   "mimetype": "text/x-python",
   "name": "python",
   "nbconvert_exporter": "python",
   "pygments_lexer": "ipython3",
   "version": "3.12.4"
  }
 },
 "nbformat": 4,
 "nbformat_minor": 2
}
